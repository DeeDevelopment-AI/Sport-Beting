{
 "cells": [
  {
   "cell_type": "code",
   "execution_count": 1,
   "metadata": {
    "collapsed": true,
    "pycharm": {
     "name": "#%%\n"
    }
   },
   "outputs": [
    {
     "data": {
      "text/plain": "       id  homeID  awayID     season    status  roundID  game_week  \\\n0  453873     149     108  2018/2019  complete     3547          1   \n1  453874     157      92  2018/2019  complete     3547          1   \n2  453875     148     161  2018/2019  complete     3547          1   \n3  453876     162     143  2018/2019  complete     3547          1   \n4  453877     217     152  2018/2019  complete     3547          1   \n\n   revised_game_week   homeGoals     awayGoals  ...  \\\n0                 -1     [3, 83]        [90+2]  ...   \n1                 -1        [11]       [8, 18]  ...   \n2                 -1  [24, 90+1]            []  ...   \n3                 -1          []      [41, 79]  ...   \n4                 -1          []  [34, 45, 80]  ...   \n\n                                           match_url  competition_id  \\\n0  /england/leicester-city-fc-vs-manchester-unite...            1625   \n1  /england/tottenham-hotspur-fc-vs-newcastle-uni...            1625   \n2  /england/afc-bournemouth-vs-cardiff-city-fc-h2...            1625   \n3  /england/crystal-palace-fc-vs-fulham-fc-h2h-st...            1625   \n4  /england/chelsea-fc-vs-huddersfield-town-fc-h2...            1625   \n\n   matches_completed_minimum  over05  over15  over25  over35  over45  over55  \\\n0                         38    True    True    True   False   False   False   \n1                         38    True    True    True   False   False   False   \n2                         38    True    True   False   False   False   False   \n3                         38    True    True   False   False   False   False   \n4                         38    True    True    True   False   False   False   \n\n    btts  \n0   True  \n1   True  \n2  False  \n3  False  \n4  False  \n\n[5 rows x 213 columns]",
      "text/html": "<div>\n<style scoped>\n    .dataframe tbody tr th:only-of-type {\n        vertical-align: middle;\n    }\n\n    .dataframe tbody tr th {\n        vertical-align: top;\n    }\n\n    .dataframe thead th {\n        text-align: right;\n    }\n</style>\n<table border=\"1\" class=\"dataframe\">\n  <thead>\n    <tr style=\"text-align: right;\">\n      <th></th>\n      <th>id</th>\n      <th>homeID</th>\n      <th>awayID</th>\n      <th>season</th>\n      <th>status</th>\n      <th>roundID</th>\n      <th>game_week</th>\n      <th>revised_game_week</th>\n      <th>homeGoals</th>\n      <th>awayGoals</th>\n      <th>...</th>\n      <th>match_url</th>\n      <th>competition_id</th>\n      <th>matches_completed_minimum</th>\n      <th>over05</th>\n      <th>over15</th>\n      <th>over25</th>\n      <th>over35</th>\n      <th>over45</th>\n      <th>over55</th>\n      <th>btts</th>\n    </tr>\n  </thead>\n  <tbody>\n    <tr>\n      <th>0</th>\n      <td>453873</td>\n      <td>149</td>\n      <td>108</td>\n      <td>2018/2019</td>\n      <td>complete</td>\n      <td>3547</td>\n      <td>1</td>\n      <td>-1</td>\n      <td>[3, 83]</td>\n      <td>[90+2]</td>\n      <td>...</td>\n      <td>/england/leicester-city-fc-vs-manchester-unite...</td>\n      <td>1625</td>\n      <td>38</td>\n      <td>True</td>\n      <td>True</td>\n      <td>True</td>\n      <td>False</td>\n      <td>False</td>\n      <td>False</td>\n      <td>True</td>\n    </tr>\n    <tr>\n      <th>1</th>\n      <td>453874</td>\n      <td>157</td>\n      <td>92</td>\n      <td>2018/2019</td>\n      <td>complete</td>\n      <td>3547</td>\n      <td>1</td>\n      <td>-1</td>\n      <td>[11]</td>\n      <td>[8, 18]</td>\n      <td>...</td>\n      <td>/england/tottenham-hotspur-fc-vs-newcastle-uni...</td>\n      <td>1625</td>\n      <td>38</td>\n      <td>True</td>\n      <td>True</td>\n      <td>True</td>\n      <td>False</td>\n      <td>False</td>\n      <td>False</td>\n      <td>True</td>\n    </tr>\n    <tr>\n      <th>2</th>\n      <td>453875</td>\n      <td>148</td>\n      <td>161</td>\n      <td>2018/2019</td>\n      <td>complete</td>\n      <td>3547</td>\n      <td>1</td>\n      <td>-1</td>\n      <td>[24, 90+1]</td>\n      <td>[]</td>\n      <td>...</td>\n      <td>/england/afc-bournemouth-vs-cardiff-city-fc-h2...</td>\n      <td>1625</td>\n      <td>38</td>\n      <td>True</td>\n      <td>True</td>\n      <td>False</td>\n      <td>False</td>\n      <td>False</td>\n      <td>False</td>\n      <td>False</td>\n    </tr>\n    <tr>\n      <th>3</th>\n      <td>453876</td>\n      <td>162</td>\n      <td>143</td>\n      <td>2018/2019</td>\n      <td>complete</td>\n      <td>3547</td>\n      <td>1</td>\n      <td>-1</td>\n      <td>[]</td>\n      <td>[41, 79]</td>\n      <td>...</td>\n      <td>/england/crystal-palace-fc-vs-fulham-fc-h2h-st...</td>\n      <td>1625</td>\n      <td>38</td>\n      <td>True</td>\n      <td>True</td>\n      <td>False</td>\n      <td>False</td>\n      <td>False</td>\n      <td>False</td>\n      <td>False</td>\n    </tr>\n    <tr>\n      <th>4</th>\n      <td>453877</td>\n      <td>217</td>\n      <td>152</td>\n      <td>2018/2019</td>\n      <td>complete</td>\n      <td>3547</td>\n      <td>1</td>\n      <td>-1</td>\n      <td>[]</td>\n      <td>[34, 45, 80]</td>\n      <td>...</td>\n      <td>/england/chelsea-fc-vs-huddersfield-town-fc-h2...</td>\n      <td>1625</td>\n      <td>38</td>\n      <td>True</td>\n      <td>True</td>\n      <td>True</td>\n      <td>False</td>\n      <td>False</td>\n      <td>False</td>\n      <td>False</td>\n    </tr>\n  </tbody>\n</table>\n<p>5 rows × 213 columns</p>\n</div>"
     },
     "execution_count": 1,
     "metadata": {},
     "output_type": "execute_result"
    }
   ],
   "source": [
    "import requests\n",
    "import streamlit as st\n",
    "import pandas as pd\n",
    "import numpy as np\n",
    "\n",
    "URL = 'https://api.football-data-api.com/league-matches?key=test85g57&season_id=1625'\n",
    "\n",
    "r = requests.get(URL)\n",
    "\n",
    "j = r.json()\n",
    "\n",
    "df = pd.DataFrame.from_dict(j['data'])\n",
    "\n",
    "df.head()"
   ]
  },
  {
   "cell_type": "code",
   "execution_count": 18,
   "outputs": [],
   "source": [
    "import requests\n",
    "import streamlit as st\n",
    "import pandas as pd\n",
    "import numpy as np\n",
    "\n",
    "URL = 'https://api.football-data-api.com/league-matches?key=test85g57&season_id=1625'\n",
    "\n",
    "r = requests.get(URL)\n",
    "\n",
    "j = r.json()\n",
    "\n",
    "data = pd.DataFrame.from_dict(j['data'])\n",
    "\n",
    "st.title(\"Football Data Analysis\")\n",
    "\n",
    "# Add a dropdown filter for teams\n",
    "team = st.selectbox(\"Select team\", [\"homeID\", \"awayID\"])\n",
    "\n",
    "# Show the data filtered by team\n",
    "data_filtered = data[data[team].notnull()]\n",
    "st.dataframe(data_filtered)\n",
    "\n",
    "# Show a summary of the data\n",
    "st.write(\"Number of rows: \", data_filtered.shape[0])\n",
    "st.write(\"Number of columns: \", data_filtered.shape[1])\n",
    "st.write(\"Columns: \", data_filtered.columns)\n",
    "\n",
    "# Show a histogram of the homeGoalCount\n",
    "st.bar_chart(data_filtered[\"homeGoalCount\"])\n",
    "\n",
    "# Show a scatter plot of homeGoalCount vs awayGoalCount\n",
    "st.line_chart(data_filtered[[\"homeGoalCount\", \"awayGoalCount\"]])\n",
    "\n",
    "# Show the correlation matrix\n",
    "st.write(\"Correlation matrix: \", data_filtered.corr())\n"
   ],
   "metadata": {
    "collapsed": false,
    "pycharm": {
     "name": "#%%\n"
    }
   }
  },
  {
   "cell_type": "code",
   "execution_count": null,
   "outputs": [],
   "source": [],
   "metadata": {
    "collapsed": false,
    "pycharm": {
     "name": "#%%\n"
    }
   }
  }
 ],
 "metadata": {
  "kernelspec": {
   "display_name": "Python 3",
   "language": "python",
   "name": "python3"
  },
  "language_info": {
   "codemirror_mode": {
    "name": "ipython",
    "version": 2
   },
   "file_extension": ".py",
   "mimetype": "text/x-python",
   "name": "python",
   "nbconvert_exporter": "python",
   "pygments_lexer": "ipython2",
   "version": "2.7.6"
  }
 },
 "nbformat": 4,
 "nbformat_minor": 0
}